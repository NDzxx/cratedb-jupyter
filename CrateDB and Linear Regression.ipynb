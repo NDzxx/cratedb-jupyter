{
 "cells": [
  {
   "cell_type": "markdown",
   "metadata": {},
   "source": [
    "# CrateDB and Linear Regression"
   ]
  },
  {
   "cell_type": "markdown",
   "metadata": {},
   "source": [
    "In this notebook, we import Twitter data from CrateDB as a Pandas dataframe and then fit a linear regression model on that data. The goal is to predict the number of followers a user has depending on the number of people they are following, using regression analysis."
   ]
  },
  {
   "cell_type": "code",
   "execution_count": 1,
   "metadata": {},
   "outputs": [],
   "source": [
    "import numpy as np\n",
    "import pandas as pd \n",
    "\n",
    "from sklearn.metrics import mean_squared_error, r2_score\n",
    "from sklearn.linear_model import LinearRegression\n",
    "from sklearn.model_selection import train_test_split\n",
    "\n",
    "import matplotlib.pyplot as plt\n",
    "from matplotlib import rcParams\n",
    "plt.style.use('ggplot')\n",
    "# you must manually install `crate` in the Anaconda environment, like so:\n",
    "#\n",
    "#     /anaconda3/bin/pip install crate"
   ]
  },
  {
   "cell_type": "code",
   "execution_count": 2,
   "metadata": {},
   "outputs": [],
   "source": [
    "rcParams['axes.grid'] = True\n",
    "rcParams['figure.figsize'] = 10,5"
   ]
  },
  {
   "cell_type": "markdown",
   "metadata": {},
   "source": [
    "## Load the Data From CrateDB"
   ]
  },
  {
   "cell_type": "code",
   "execution_count": 3,
   "metadata": {
    "scrolled": false
   },
   "outputs": [
    {
     "data": {
      "text/html": [
       "<div>\n",
       "<style scoped>\n",
       "    .dataframe tbody tr th:only-of-type {\n",
       "        vertical-align: middle;\n",
       "    }\n",
       "\n",
       "    .dataframe tbody tr th {\n",
       "        vertical-align: top;\n",
       "    }\n",
       "\n",
       "    .dataframe thead th {\n",
       "        text-align: right;\n",
       "    }\n",
       "</style>\n",
       "<table border=\"1\" class=\"dataframe\">\n",
       "  <thead>\n",
       "    <tr style=\"text-align: right;\">\n",
       "      <th></th>\n",
       "      <th>followers</th>\n",
       "      <th>followees</th>\n",
       "    </tr>\n",
       "    <tr>\n",
       "      <th>id</th>\n",
       "      <th></th>\n",
       "      <th></th>\n",
       "    </tr>\n",
       "  </thead>\n",
       "  <tbody>\n",
       "    <tr>\n",
       "      <th>746657251008585728</th>\n",
       "      <td>1790</td>\n",
       "      <td>88</td>\n",
       "    </tr>\n",
       "    <tr>\n",
       "      <th>1037581021422608385</th>\n",
       "      <td>224</td>\n",
       "      <td>209</td>\n",
       "    </tr>\n",
       "    <tr>\n",
       "      <th>2416723617</th>\n",
       "      <td>485</td>\n",
       "      <td>1015</td>\n",
       "    </tr>\n",
       "    <tr>\n",
       "      <th>1068985122836250624</th>\n",
       "      <td>29</td>\n",
       "      <td>1584</td>\n",
       "    </tr>\n",
       "    <tr>\n",
       "      <th>753823111842103296</th>\n",
       "      <td>16</td>\n",
       "      <td>72</td>\n",
       "    </tr>\n",
       "  </tbody>\n",
       "</table>\n",
       "</div>"
      ],
      "text/plain": [
       "                     followers  followees\n",
       "id                                       \n",
       "746657251008585728        1790         88\n",
       "1037581021422608385        224        209\n",
       "2416723617                 485       1015\n",
       "1068985122836250624         29       1584\n",
       "753823111842103296          16         72"
      ]
     },
     "metadata": {},
     "output_type": "display_data"
    }
   ],
   "source": [
    "limit = 100000\n",
    "sql_query = \"\"\"\n",
    "    SELECT DISTINCT account_user['id'] AS id,\n",
    "                    account_user['followers_count'] AS followers,\n",
    "                    account_user['friends_count'] AS followees\n",
    "               FROM tweets\n",
    "              LIMIT {};\n",
    "    \"\"\".format(limit)\n",
    "\n",
    "# SQL query works out of the box with SQLAlchemy\n",
    "try:\n",
    "    # query CrateDB\n",
    "    df_data = pd.read_sql(\n",
    "        sql_query, 'crate://localhost:4200', index_col='id')\n",
    "    # let's have a look at the first 5 rows\n",
    "    display(df_data.head(5))\n",
    "except Exception as error:\n",
    "    print(error)\n",
    "    print('CreatDB running and tweets imported?')"
   ]
  },
  {
   "cell_type": "markdown",
   "metadata": {},
   "source": [
    "## Explore the Data"
   ]
  },
  {
   "cell_type": "code",
   "execution_count": 4,
   "metadata": {
    "scrolled": true
   },
   "outputs": [
    {
     "data": {
      "image/png": "[encoded data removed]",
      "text/plain": [
       "<Figure size 720x360 with 1 Axes>"
      ]
     },
     "metadata": {
      "needs_background": "light"
     },
     "output_type": "display_data"
    }
   ],
   "source": [
    "df_data.plot.scatter(x='followees', y='followers')\n",
    "plt.show()"
   ]
  },
  {
   "cell_type": "markdown",
   "metadata": {},
   "source": [
    "## Preprocess Data"
   ]
  },
  {
   "cell_type": "code",
   "execution_count": 6,
   "metadata": {
    "scrolled": true
   },
   "outputs": [
    {
     "data": {
      "text/html": [
       "<div>\n",
       "<style scoped>\n",
       "    .dataframe tbody tr th:only-of-type {\n",
       "        vertical-align: middle;\n",
       "    }\n",
       "\n",
       "    .dataframe tbody tr th {\n",
       "        vertical-align: top;\n",
       "    }\n",
       "\n",
       "    .dataframe thead th {\n",
       "        text-align: right;\n",
       "    }\n",
       "</style>\n",
       "<table border=\"1\" class=\"dataframe\">\n",
       "  <thead>\n",
       "    <tr style=\"text-align: right;\">\n",
       "      <th></th>\n",
       "      <th>followers</th>\n",
       "      <th>followees</th>\n",
       "    </tr>\n",
       "    <tr>\n",
       "      <th>id</th>\n",
       "      <th></th>\n",
       "      <th></th>\n",
       "    </tr>\n",
       "  </thead>\n",
       "  <tbody>\n",
       "    <tr>\n",
       "      <th>746657251008585728</th>\n",
       "      <td>3.252853</td>\n",
       "      <td>1.944483</td>\n",
       "    </tr>\n",
       "    <tr>\n",
       "      <th>1037581021422608385</th>\n",
       "      <td>2.350248</td>\n",
       "      <td>2.320146</td>\n",
       "    </tr>\n",
       "    <tr>\n",
       "      <th>2416723617</th>\n",
       "      <td>2.685742</td>\n",
       "      <td>3.006466</td>\n",
       "    </tr>\n",
       "    <tr>\n",
       "      <th>1068985122836250624</th>\n",
       "      <td>1.462398</td>\n",
       "      <td>3.199755</td>\n",
       "    </tr>\n",
       "    <tr>\n",
       "      <th>753823111842103296</th>\n",
       "      <td>1.204120</td>\n",
       "      <td>1.857332</td>\n",
       "    </tr>\n",
       "  </tbody>\n",
       "</table>\n",
       "</div>"
      ],
      "text/plain": [
       "                     followers  followees\n",
       "id                                       \n",
       "746657251008585728    3.252853   1.944483\n",
       "1037581021422608385   2.350248   2.320146\n",
       "2416723617            2.685742   3.006466\n",
       "1068985122836250624   1.462398   3.199755\n",
       "753823111842103296    1.204120   1.857332"
      ]
     },
     "metadata": {},
     "output_type": "display_data"
    }
   ],
   "source": [
    "# remove row if one value is zero, because log is -inf on zero\n",
    "df_data = df_data.loc[~(df_data == 0).any(axis=1)] \n",
    "\n",
    "# apply log to followers and followees\n",
    "df_data_transformed = df_data.apply(np.log10 )\n",
    "\n",
    "# let's have a look at the first 5 rows after preprocessing data\n",
    "display(df_data_transformed.head(5))"
   ]
  },
  {
   "cell_type": "markdown",
   "metadata": {},
   "source": [
    "## Plot the Processed Data "
   ]
  },
  {
   "cell_type": "code",
   "execution_count": 7,
   "metadata": {
    "scrolled": false
   },
   "outputs": [
    {
     "data": {
      "text/plain": [
       "[Text(0,0.5,'log(followers)'), Text(0.5,0,'log(followees)')]"
      ]
     },
     "execution_count": 7,
     "metadata": {},
     "output_type": "execute_result"
    },
    {
     "data": {
      "image/png": "[encoded data removed]",
      "text/plain": [
       "<Figure size 720x360 with 1 Axes>"
      ]
     },
     "metadata": {
      "needs_background": "light"
     },
     "output_type": "display_data"
    }
   ],
   "source": [
    "ax = df_data_transformed.plot.scatter(x='followees', y='followers')\n",
    "ax.set(xlabel='log(followees)', ylabel='log(followers)')"
   ]
  },
  {
   "cell_type": "markdown",
   "metadata": {},
   "source": [
    "## Split Into Training and Testing Data"
   ]
  },
  {
   "cell_type": "code",
   "execution_count": 8,
   "metadata": {},
   "outputs": [],
   "source": [
    "# randomly split in train and test data\n",
    "df_train, df_test = train_test_split(\n",
    "    df_data_transformed, test_size=(1/3), random_state=42)"
   ]
  },
  {
   "cell_type": "markdown",
   "metadata": {},
   "source": [
    "## Create a Base Model"
   ]
  },
  {
   "cell_type": "code",
   "execution_count": 9,
   "metadata": {},
   "outputs": [
    {
     "data": {
      "text/plain": [
       "'Average followers 2.430660373654267'"
      ]
     },
     "metadata": {},
     "output_type": "display_data"
    }
   ],
   "source": [
    "average_followers = df_train.followers.mean()\n",
    "display('Average followers '+ str(average_followers))"
   ]
  },
  {
   "cell_type": "markdown",
   "metadata": {},
   "source": [
    "## Evaluate the Base Model"
   ]
  },
  {
   "cell_type": "code",
   "execution_count": 10,
   "metadata": {},
   "outputs": [
    {
     "name": "stdout",
     "output_type": "stream",
     "text": [
      "Root mean squared error: 0.86\n",
      "Variance score: -0.00\n"
     ]
    }
   ],
   "source": [
    "# always use average_followers\n",
    "followers_pred = np.full(len(df_test.followers), average_followers)\n",
    "\n",
    "# the root mean squared error in the log space\n",
    "print(\"Root mean squared error: %.2f\" \n",
    "    % np.sqrt(mean_squared_error(df_test.followers, followers_pred)))\n",
    "\n",
    "# variance score: 1 is perfect prediction\n",
    "print('Variance score: %.2f'\n",
    "    % r2_score(df_test.followers, followers_pred))"
   ]
  },
  {
   "cell_type": "markdown",
   "metadata": {},
   "source": [
    "## Create and Train a Linear Regression Model "
   ]
  },
  {
   "cell_type": "code",
   "execution_count": 11,
   "metadata": {},
   "outputs": [
    {
     "data": {
      "text/plain": [
       "LinearRegression(copy_X=True, fit_intercept=True, n_jobs=1, normalize=False)"
      ]
     },
     "execution_count": 11,
     "metadata": {},
     "output_type": "execute_result"
    }
   ],
   "source": [
    "# create linear regression object\n",
    "regr = LinearRegression()\n",
    "\n",
    "# train the model using the training data\n",
    "regr.fit(df_train[['followees']], df_train.followers)"
   ]
  },
  {
   "cell_type": "markdown",
   "metadata": {},
   "source": [
    "## Evaluate the Linear Regression Model "
   ]
  },
  {
   "cell_type": "code",
   "execution_count": 12,
   "metadata": {},
   "outputs": [
    {
     "name": "stdout",
     "output_type": "stream",
     "text": [
      "Root mean squared error: 0.62\n",
      "Variance score: 0.48\n"
     ]
    }
   ],
   "source": [
    "# make predictions using the testing set\n",
    "followers_pred = regr.predict(df_test[['followees']])\n",
    "\n",
    "# the root mean squared error in the log space\n",
    "print(\"Root mean squared error: %.2f\"\n",
    "      % np.sqrt(mean_squared_error(df_test.followers, followers_pred)))\n",
    "\n",
    "# explained variance score: 1 is perfect prediction\n",
    "print('Variance score: %.2f'\n",
    "      % r2_score(df_test.followers, followers_pred))"
   ]
  },
  {
   "cell_type": "markdown",
   "metadata": {},
   "source": [
    "## Vizualize the Linear Regression Model"
   ]
  },
  {
   "cell_type": "code",
   "execution_count": 13,
   "metadata": {
    "scrolled": false
   },
   "outputs": [
    {
     "data": {
      "text/plain": [
       "[<matplotlib.lines.Line2D at 0x1a1a9c9ba8>]"
      ]
     },
     "execution_count": 13,
     "metadata": {},
     "output_type": "execute_result"
    },
    {
     "data": {
      "image/png": "[encoded data removed]",
      "text/plain": [
       "<Figure size 720x360 with 1 Axes>"
      ]
     },
     "metadata": {
      "needs_background": "light"
     },
     "output_type": "display_data"
    }
   ],
   "source": [
    "# plot outputs\n",
    "ax = df_test.plot.scatter(x='followees', y='followers')\n",
    "ax.set(xlabel='log(followees)', ylabel='log(followers)')\n",
    "plt.plot(df_test.followees, followers_pred, color='red')"
   ]
  },
  {
   "cell_type": "markdown",
   "metadata": {},
   "source": [
    "## Get the Original Values"
   ]
  },
  {
   "cell_type": "code",
   "execution_count": 14,
   "metadata": {},
   "outputs": [
    {
     "data": {
      "text/html": [
       "<div>\n",
       "<style scoped>\n",
       "    .dataframe tbody tr th:only-of-type {\n",
       "        vertical-align: middle;\n",
       "    }\n",
       "\n",
       "    .dataframe tbody tr th {\n",
       "        vertical-align: top;\n",
       "    }\n",
       "\n",
       "    .dataframe thead th {\n",
       "        text-align: right;\n",
       "    }\n",
       "</style>\n",
       "<table border=\"1\" class=\"dataframe\">\n",
       "  <thead>\n",
       "    <tr style=\"text-align: right;\">\n",
       "      <th></th>\n",
       "      <th>followees</th>\n",
       "      <th>predicted_followers</th>\n",
       "    </tr>\n",
       "    <tr>\n",
       "      <th>id</th>\n",
       "      <th></th>\n",
       "      <th></th>\n",
       "    </tr>\n",
       "  </thead>\n",
       "  <tbody>\n",
       "    <tr>\n",
       "      <th>3958268352</th>\n",
       "      <td>798</td>\n",
       "      <td>653</td>\n",
       "    </tr>\n",
       "    <tr>\n",
       "      <th>967930812564889600</th>\n",
       "      <td>374</td>\n",
       "      <td>331</td>\n",
       "    </tr>\n",
       "    <tr>\n",
       "      <th>830419953216008192</th>\n",
       "      <td>298</td>\n",
       "      <td>270</td>\n",
       "    </tr>\n",
       "    <tr>\n",
       "      <th>153583255</th>\n",
       "      <td>298</td>\n",
       "      <td>270</td>\n",
       "    </tr>\n",
       "    <tr>\n",
       "      <th>256544006</th>\n",
       "      <td>489</td>\n",
       "      <td>421</td>\n",
       "    </tr>\n",
       "    <tr>\n",
       "      <th>1703876994</th>\n",
       "      <td>17</td>\n",
       "      <td>20</td>\n",
       "    </tr>\n",
       "    <tr>\n",
       "      <th>136782824</th>\n",
       "      <td>85</td>\n",
       "      <td>89</td>\n",
       "    </tr>\n",
       "    <tr>\n",
       "      <th>202550910</th>\n",
       "      <td>1993</td>\n",
       "      <td>1481</td>\n",
       "    </tr>\n",
       "    <tr>\n",
       "      <th>1036644479602544640</th>\n",
       "      <td>347</td>\n",
       "      <td>311</td>\n",
       "    </tr>\n",
       "    <tr>\n",
       "      <th>1074007861464727552</th>\n",
       "      <td>23</td>\n",
       "      <td>28</td>\n",
       "    </tr>\n",
       "  </tbody>\n",
       "</table>\n",
       "</div>"
      ],
      "text/plain": [
       "                     followees  predicted_followers\n",
       "id                                                 \n",
       "3958268352                 798                  653\n",
       "967930812564889600         374                  331\n",
       "830419953216008192         298                  270\n",
       "153583255                  298                  270\n",
       "256544006                  489                  421\n",
       "1703876994                  17                   20\n",
       "136782824                   85                   89\n",
       "202550910                 1993                 1481\n",
       "1036644479602544640        347                  311\n",
       "1074007861464727552         23                   28"
      ]
     },
     "execution_count": 14,
     "metadata": {},
     "output_type": "execute_result"
    }
   ],
   "source": [
    "# return it as a Dataframe\n",
    "df_predicted = df_test[['followees']]\n",
    "df_predicted['predicted_followers'] = followers_pred\n",
    "\n",
    "inverse_log10 = lambda x: 10 ** x\n",
    "# apply a reverse logarithmic transformation\n",
    "df_predicted = df_predicted.apply(inverse_log10).astype(int)\n",
    "df_predicted.head(10)"
   ]
  },
  {
   "cell_type": "markdown",
   "metadata": {},
   "source": [
    "## Write Back to CrateDB"
   ]
  },
  {
   "cell_type": "code",
   "execution_count": 48,
   "metadata": {},
   "outputs": [],
   "source": [
    "# promote id from index type back as column, so it shows up in the table\n",
    "df_predicted_reset = df_predicted.reset_index() \n",
    "df_predicted_reset.to_sql(\n",
    "    'predicted_followers', 'crate://localhost',\n",
    "    if_exists='append', index=False )"
   ]
  }
 ],
 "metadata": {
  "kernelspec": {
   "display_name": "Python 3",
   "language": "python",
   "name": "python3"
  },
  "language_info": {
   "codemirror_mode": {
    "name": "ipython",
    "version": 3
   },
   "file_extension": ".py",
   "mimetype": "text/x-python",
   "name": "python",
   "nbconvert_exporter": "python",
   "pygments_lexer": "ipython3",
   "version": "3.7.0"
  }
 },
 "nbformat": 4,
 "nbformat_minor": 2
}
