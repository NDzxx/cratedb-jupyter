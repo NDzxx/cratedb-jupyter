{
 "cells": [
  {
   "cell_type": "markdown",
   "metadata": {},
   "source": [
    "# CrateDB and Linear Regression"
   ]
  },
  {
   "cell_type": "markdown",
   "metadata": {},
   "source": [
    "In this notebook, we import Twitter data from CrateDB as a Pandas dataframe and then fit a linear regression model on that data. The goal is to predict the number of followers a user has depending on the number of people they are following, using regression analysis."
   ]
  },
  {
   "cell_type": "code",
   "execution_count": 3,
   "metadata": {},
   "outputs": [],
   "source": [
    "import numpy as np\n",
    "import pandas as pd \n",
    "\n",
    "from sklearn.metrics import mean_squared_error, r2_score\n",
    "from sklearn.linear_model import LinearRegression\n",
    "from sklearn.model_selection import train_test_split\n",
    "\n",
    "import matplotlib.pyplot as plt\n",
    "from matplotlib import rcParams\n",
    "\n",
    "# you must manually install `crate` in the Anaconda environment, like so:\n",
    "#\n",
    "#     /anaconda3/bin/pip install crate"
   ]
  },
  {
   "cell_type": "code",
   "execution_count": 4,
   "metadata": {},
   "outputs": [],
   "source": [
    "rcParams['axes.grid'] = True\n",
    "rcParams['figure.figsize'] = 10,5"
   ]
  },
  {
   "cell_type": "markdown",
   "metadata": {},
   "source": [
    "# Load the Data From CrateDB"
   ]
  },
  {
   "cell_type": "code",
   "execution_count": 9,
   "metadata": {
    "scrolled": false
   },
   "outputs": [
    {
     "data": {
      "text/html": [
       "<div>\n",
       "<style scoped>\n",
       "    .dataframe tbody tr th:only-of-type {\n",
       "        vertical-align: middle;\n",
       "    }\n",
       "\n",
       "    .dataframe tbody tr th {\n",
       "        vertical-align: top;\n",
       "    }\n",
       "\n",
       "    .dataframe thead th {\n",
       "        text-align: right;\n",
       "    }\n",
       "</style>\n",
       "<table border=\"1\" class=\"dataframe\">\n",
       "  <thead>\n",
       "    <tr style=\"text-align: right;\">\n",
       "      <th></th>\n",
       "      <th>followers</th>\n",
       "      <th>followees</th>\n",
       "    </tr>\n",
       "    <tr>\n",
       "      <th>id</th>\n",
       "      <th></th>\n",
       "      <th></th>\n",
       "    </tr>\n",
       "  </thead>\n",
       "  <tbody>\n",
       "    <tr>\n",
       "      <th>746657251008585728</th>\n",
       "      <td>1790</td>\n",
       "      <td>88</td>\n",
       "    </tr>\n",
       "    <tr>\n",
       "      <th>1037581021422608385</th>\n",
       "      <td>224</td>\n",
       "      <td>209</td>\n",
       "    </tr>\n",
       "    <tr>\n",
       "      <th>2416723617</th>\n",
       "      <td>485</td>\n",
       "      <td>1015</td>\n",
       "    </tr>\n",
       "    <tr>\n",
       "      <th>1068985122836250624</th>\n",
       "      <td>29</td>\n",
       "      <td>1584</td>\n",
       "    </tr>\n",
       "    <tr>\n",
       "      <th>753823111842103296</th>\n",
       "      <td>16</td>\n",
       "      <td>72</td>\n",
       "    </tr>\n",
       "  </tbody>\n",
       "</table>\n",
       "</div>"
      ],
      "text/plain": [
       "                     followers  followees\n",
       "id                                       \n",
       "746657251008585728        1790         88\n",
       "1037581021422608385        224        209\n",
       "2416723617                 485       1015\n",
       "1068985122836250624         29       1584\n",
       "753823111842103296          16         72"
      ]
     },
     "metadata": {},
     "output_type": "display_data"
    }
   ],
   "source": [
    "limit = 100000\n",
    "sql_query = \"\"\"\n",
    "    SELECT DISTINCT account_user['id'] AS id,\n",
    "                    account_user['followers_count'] AS followers,\n",
    "                    account_user['friends_count'] AS followees\n",
    "               FROM tweets\n",
    "              LIMIT {};\n",
    "    \"\"\".format(limit)\n",
    "\n",
    "# SQL query works out of the box with SQLAlchemy\n",
    "try:\n",
    "    # query CrateDB\n",
    "    df_data = pd.read_sql(\n",
    "        sql_query, 'crate://localhost:4200', index_col='id')\n",
    "    # let's have a look at the first 5 rows\n",
    "    display(df_data.head(5))\n",
    "except Exception as error:\n",
    "    print(error)\n",
    "    print('CreatDB running and tweets imported?')\n",
    "    \n"
   ]
  },
  {
   "cell_type": "markdown",
   "metadata": {},
   "source": [
    "# Explore the Data"
   ]
  },
  {
   "cell_type": "code",
   "execution_count": 10,
   "metadata": {
    "scrolled": true
   },
   "outputs": [
    {
     "data": {
      "image/png": "[encoded data removed]",
      "text/plain": [
       "<Figure size 720x360 with 1 Axes>"
      ]
     },
     "metadata": {
      "needs_background": "light"
     },
     "output_type": "display_data"
    },
    {
     "data": {
      "text/plain": [
       "<matplotlib.axes._subplots.AxesSubplot at 0x1a19b15710>"
      ]
     },
     "execution_count": 10,
     "metadata": {},
     "output_type": "execute_result"
    },
    {
     "data": {
      "image/png": "[encoded data removed]",
      "text/plain": [
       "<Figure size 720x360 with 1 Axes>"
      ]
     },
     "metadata": {
      "needs_background": "light"
     },
     "output_type": "display_data"
    }
   ],
   "source": [
    "df_data.plot.scatter(x='followees', y='followers')\n",
    "plt.show()"
   ]
  },
  {
   "cell_type": "markdown",
   "metadata": {},
   "source": [
    "# Preprocess Data"
   ]
  },
  {
   "cell_type": "code",
   "execution_count": 17,
   "metadata": {
    "scrolled": true
   },
   "outputs": [
    {
     "data": {
      "text/html": [
       "<div>\n",
       "<style scoped>\n",
       "    .dataframe tbody tr th:only-of-type {\n",
       "        vertical-align: middle;\n",
       "    }\n",
       "\n",
       "    .dataframe tbody tr th {\n",
       "        vertical-align: top;\n",
       "    }\n",
       "\n",
       "    .dataframe thead th {\n",
       "        text-align: right;\n",
       "    }\n",
       "</style>\n",
       "<table border=\"1\" class=\"dataframe\">\n",
       "  <thead>\n",
       "    <tr style=\"text-align: right;\">\n",
       "      <th></th>\n",
       "      <th>followers</th>\n",
       "      <th>followees</th>\n",
       "    </tr>\n",
       "    <tr>\n",
       "      <th>id</th>\n",
       "      <th></th>\n",
       "      <th></th>\n",
       "    </tr>\n",
       "  </thead>\n",
       "  <tbody>\n",
       "    <tr>\n",
       "      <th>746657251008585728</th>\n",
       "      <td>NaN</td>\n",
       "      <td>-0.539397</td>\n",
       "    </tr>\n",
       "    <tr>\n",
       "      <th>1037581021422608385</th>\n",
       "      <td>NaN</td>\n",
       "      <td>-0.437094</td>\n",
       "    </tr>\n",
       "    <tr>\n",
       "      <th>2416723617</th>\n",
       "      <td>NaN</td>\n",
       "      <td>-0.320521</td>\n",
       "    </tr>\n",
       "    <tr>\n",
       "      <th>1068985122836250624</th>\n",
       "      <td>NaN</td>\n",
       "      <td>-0.296608</td>\n",
       "    </tr>\n",
       "    <tr>\n",
       "      <th>753823111842103296</th>\n",
       "      <td>NaN</td>\n",
       "      <td>-0.570426</td>\n",
       "    </tr>\n",
       "  </tbody>\n",
       "</table>\n",
       "</div>"
      ],
      "text/plain": [
       "                     followers  followees\n",
       "id                                       \n",
       "746657251008585728         NaN  -0.539397\n",
       "1037581021422608385        NaN  -0.437094\n",
       "2416723617                 NaN  -0.320521\n",
       "1068985122836250624        NaN  -0.296608\n",
       "753823111842103296         NaN  -0.570426"
      ]
     },
     "metadata": {},
     "output_type": "display_data"
    }
   ],
   "source": [
    "# remove row if one value is zero, because log is -inf on zero\n",
    "df_data = df_data.loc[~(df_data == 0).any(axis=1)] \n",
    "\n",
    "# apply log to followers and friends\n",
    "df_data.followers = df_data.followers.apply(np.log10)\n",
    "df_data.followees = df_data.followees.apply(np.log10)\n",
    "\n",
    "# let's have a look at the first 5 rows after preprocessing data\n",
    "display(df_data.head(5))"
   ]
  },
  {
   "cell_type": "markdown",
   "metadata": {},
   "source": [
    "# Plot the Processed Data "
   ]
  },
  {
   "cell_type": "code",
   "execution_count": 18,
   "metadata": {
    "scrolled": false
   },
   "outputs": [
    {
     "data": {
      "text/plain": [
       "[Text(0,0.5,'log(followers)'), Text(0.5,0,'log(followees)')]"
      ]
     },
     "execution_count": 18,
     "metadata": {},
     "output_type": "execute_result"
    },
    {
     "data": {
      "image/png": "[encoded data removed]",
      "text/plain": [
       "<Figure size 720x360 with 1 Axes>"
      ]
     },
     "metadata": {
      "needs_background": "light"
     },
     "output_type": "display_data"
    }
   ],
   "source": [
    "ax = df_data.plot.scatter(x='followees', y='followers')\n",
    "ax.set(xlabel='log(followees)', ylabel='log(followers)')"
   ]
  },
  {
   "cell_type": "markdown",
   "metadata": {},
   "source": [
    "# Split into training and testing data"
   ]
  },
  {
   "cell_type": "code",
   "execution_count": 7,
   "metadata": {},
   "outputs": [],
   "source": [
    "\n",
    "#randomly split in train and test data\n",
    "df_train, df_test = train_test_split(df_data, test_size=(1/3), random_state=42)"
   ]
  },
  {
   "cell_type": "markdown",
   "metadata": {},
   "source": [
    "# Create a baseline reference"
   ]
  },
  {
   "cell_type": "code",
   "execution_count": 8,
   "metadata": {},
   "outputs": [
    {
     "data": {
      "text/plain": [
       "'Average followers 2.3789431947125252'"
      ]
     },
     "metadata": {},
     "output_type": "display_data"
    },
    {
     "data": {
      "text/html": [
       "<div>\n",
       "<style scoped>\n",
       "    .dataframe tbody tr th:only-of-type {\n",
       "        vertical-align: middle;\n",
       "    }\n",
       "\n",
       "    .dataframe tbody tr th {\n",
       "        vertical-align: top;\n",
       "    }\n",
       "\n",
       "    .dataframe thead th {\n",
       "        text-align: right;\n",
       "    }\n",
       "</style>\n",
       "<table border=\"1\" class=\"dataframe\">\n",
       "  <thead>\n",
       "    <tr style=\"text-align: right;\">\n",
       "      <th></th>\n",
       "      <th>followers</th>\n",
       "    </tr>\n",
       "    <tr>\n",
       "      <th>friends</th>\n",
       "      <th></th>\n",
       "    </tr>\n",
       "  </thead>\n",
       "  <tbody>\n",
       "    <tr>\n",
       "      <th>(-0.00496, 0.993]</th>\n",
       "      <td>1.294223</td>\n",
       "    </tr>\n",
       "    <tr>\n",
       "      <th>(0.993, 1.986]</th>\n",
       "      <td>1.610918</td>\n",
       "    </tr>\n",
       "    <tr>\n",
       "      <th>(1.986, 2.979]</th>\n",
       "      <td>2.362340</td>\n",
       "    </tr>\n",
       "    <tr>\n",
       "      <th>(2.979, 3.971]</th>\n",
       "      <td>3.161637</td>\n",
       "    </tr>\n",
       "    <tr>\n",
       "      <th>(3.971, 4.964]</th>\n",
       "      <td>4.356598</td>\n",
       "    </tr>\n",
       "  </tbody>\n",
       "</table>\n",
       "</div>"
      ],
      "text/plain": [
       "                   followers\n",
       "friends                     \n",
       "(-0.00496, 0.993]   1.294223\n",
       "(0.993, 1.986]      1.610918\n",
       "(1.986, 2.979]      2.362340\n",
       "(2.979, 3.971]      3.161637\n",
       "(3.971, 4.964]      4.356598"
      ]
     },
     "metadata": {},
     "output_type": "display_data"
    }
   ],
   "source": [
    "average_followers = df_train.followers.mean()\n",
    "display('Average followers '+ str(average_followers))\n",
    "\n",
    "bin_count = 5\n",
    "binned_friends = pd.cut(df_train.friends, bin_count)\n",
    "average_binned_followers = df_train[['followers']].groupby(binned_friends).mean()\n",
    "display(average_binned_followers)"
   ]
  },
  {
   "cell_type": "markdown",
   "metadata": {},
   "source": [
    "# Evaluate baseline"
   ]
  },
  {
   "cell_type": "code",
   "execution_count": 9,
   "metadata": {},
   "outputs": [
    {
     "name": "stdout",
     "output_type": "stream",
     "text": [
      "Root mean squared error: 0.79\n",
      "Variance score: -0.01\n"
     ]
    }
   ],
   "source": [
    "\n",
    "# Always use average_followers\n",
    "followers_pred = np.full(len(df_test.followers),average_followers)\n",
    "# The root mean squared error in the log space\n",
    "print(\"Root mean squared error: %.2f\" \n",
    "      % np.sqrt(mean_squared_error(df_test.followers, followers_pred )))\n",
    "# Explained variance score: 1 is perfect prediction\n",
    "print('Variance score: %.2f' % r2_score(df_test.followers, followers_pred))"
   ]
  },
  {
   "cell_type": "markdown",
   "metadata": {},
   "source": [
    " r2_score will give us some information about the goodness of the model fit, and it is a measure of the linear relationship between the input and the output. 1 would be perfect, while zero or even negative values would indicate a bad fit. In our case it is expected to get a value of 0.0. Since we always return the same value (average_followers), there is no relationship at all.\n"
   ]
  },
  {
   "cell_type": "markdown",
   "metadata": {},
   "source": [
    "## Let's use the binned values "
   ]
  },
  {
   "cell_type": "code",
   "execution_count": 10,
   "metadata": {},
   "outputs": [],
   "source": [
    "min_value = average_binned_followers.index.min().left\n",
    "max_value = average_binned_followers.index.max().right"
   ]
  },
  {
   "cell_type": "code",
   "execution_count": 11,
   "metadata": {},
   "outputs": [
    {
     "name": "stdout",
     "output_type": "stream",
     "text": [
      "Root mean squared error: 0.66\n",
      "Variance score: 0.29\n"
     ]
    }
   ],
   "source": [
    "\n",
    "# Use the binned average values \n",
    "followers_pred = average_binned_followers.loc[df_test.friends.clip(min_value, max_value)]\n",
    "# The root mean squared error in the log space\n",
    "print(\"Root mean squared error: %.2f\"\n",
    "      % np.sqrt(mean_squared_error(df_test.followers, followers_pred )))\n",
    "# Explained variance score: 1 is perfect prediction\n",
    "print('Variance score: %.2f' % r2_score(df_test.followers, followers_pred))"
   ]
  },
  {
   "cell_type": "markdown",
   "metadata": {},
   "source": [
    "With this simple optimization, we already can see an improvement of the RMSE value, as well as, a higher r2 value. \n",
    "Let's use these values as our base model. "
   ]
  },
  {
   "cell_type": "markdown",
   "metadata": {},
   "source": [
    "# Train the linear regression model "
   ]
  },
  {
   "cell_type": "code",
   "execution_count": 12,
   "metadata": {},
   "outputs": [
    {
     "data": {
      "text/plain": [
       "LinearRegression(copy_X=True, fit_intercept=True, n_jobs=None,\n",
       "         normalize=False)"
      ]
     },
     "execution_count": 12,
     "metadata": {},
     "output_type": "execute_result"
    }
   ],
   "source": [
    "\n",
    "# Create linear regression object\n",
    "regr = LinearRegression()\n",
    "# Train the model using the training set\n",
    "regr.fit(df_train[['friends']], df_train.followers)"
   ]
  },
  {
   "cell_type": "markdown",
   "metadata": {},
   "source": [
    "# Evaluate the model "
   ]
  },
  {
   "cell_type": "code",
   "execution_count": 13,
   "metadata": {},
   "outputs": [
    {
     "name": "stdout",
     "output_type": "stream",
     "text": [
      "Root mean squared error: 0.62\n",
      "Variance score: 0.39\n"
     ]
    }
   ],
   "source": [
    "# Make predictions using the testing set\n",
    "followers_pred = regr.predict(df_test[['friends']])\n",
    "# The root mean squared error in the log space\n",
    "print(\"Root mean squared error: %.2f\"\n",
    "      % np.sqrt(mean_squared_error(df_test.followers, followers_pred)))\n",
    "# Explained variance score: 1 is perfect prediction\n",
    "print('Variance score: %.2f' % r2_score(df_test.followers, followers_pred))"
   ]
  },
  {
   "cell_type": "markdown",
   "metadata": {},
   "source": [
    "### Compare the model"
   ]
  },
  {
   "cell_type": "markdown",
   "metadata": {},
   "source": [
    "Let's compare the lineare regression model with our base line model. "
   ]
  },
  {
   "cell_type": "markdown",
   "metadata": {},
   "source": [
    "The RMSE value decreased by about 1/3, while the r2 value increased. These two values support our hypothesis that linear regression is a better model than our baseline model and we don't have to reject it. "
   ]
  },
  {
   "cell_type": "markdown",
   "metadata": {},
   "source": [
    "The following plot shows us the actual test data in blue and in red the predicted followers based on the friends of the test data. "
   ]
  },
  {
   "cell_type": "code",
   "execution_count": 14,
   "metadata": {
    "scrolled": true
   },
   "outputs": [
    {
     "data": {
      "text/plain": [
       "[<matplotlib.lines.Line2D at 0x1a1bc92828>]"
      ]
     },
     "execution_count": 14,
     "metadata": {},
     "output_type": "execute_result"
    },
    {
     "data": {
      "image/png": "[encoded data removed]",
      "text/plain": [
       "<Figure size 720x360 with 1 Axes>"
      ]
     },
     "metadata": {
      "needs_background": "light"
     },
     "output_type": "display_data"
    }
   ],
   "source": [
    "# Plot outputs\n",
    "ax = df_test.plot.scatter(x='friends', y='followers')\n",
    "ax.set(xlabel='log(friends)', ylabel='log(followers)')\n",
    "plt.plot(df_test.friends, followers_pred, color='red')\n"
   ]
  },
  {
   "cell_type": "markdown",
   "metadata": {},
   "source": [
    "# Get Original Values"
   ]
  },
  {
   "cell_type": "markdown",
   "metadata": {},
   "source": [
    "Of course these values currently don't represent the actuall followers, because we previously preprocessed the data and scaled it with log. Let's scale them back to actually represent the original values again.\n"
   ]
  },
  {
   "cell_type": "code",
   "execution_count": 15,
   "metadata": {},
   "outputs": [
    {
     "data": {
      "text/html": [
       "<div>\n",
       "<style scoped>\n",
       "    .dataframe tbody tr th:only-of-type {\n",
       "        vertical-align: middle;\n",
       "    }\n",
       "\n",
       "    .dataframe tbody tr th {\n",
       "        vertical-align: top;\n",
       "    }\n",
       "\n",
       "    .dataframe thead th {\n",
       "        text-align: right;\n",
       "    }\n",
       "</style>\n",
       "<table border=\"1\" class=\"dataframe\">\n",
       "  <thead>\n",
       "    <tr style=\"text-align: right;\">\n",
       "      <th></th>\n",
       "      <th>friends</th>\n",
       "      <th>predicted_followers</th>\n",
       "    </tr>\n",
       "    <tr>\n",
       "      <th>id</th>\n",
       "      <th></th>\n",
       "      <th></th>\n",
       "    </tr>\n",
       "  </thead>\n",
       "  <tbody>\n",
       "    <tr>\n",
       "      <th>252564115</th>\n",
       "      <td>14</td>\n",
       "      <td>12</td>\n",
       "    </tr>\n",
       "    <tr>\n",
       "      <th>2789628483</th>\n",
       "      <td>13</td>\n",
       "      <td>12</td>\n",
       "    </tr>\n",
       "    <tr>\n",
       "      <th>977495870651424768</th>\n",
       "      <td>11</td>\n",
       "      <td>10</td>\n",
       "    </tr>\n",
       "    <tr>\n",
       "      <th>964564652574363648</th>\n",
       "      <td>42</td>\n",
       "      <td>33</td>\n",
       "    </tr>\n",
       "    <tr>\n",
       "      <th>42646399</th>\n",
       "      <td>3</td>\n",
       "      <td>3</td>\n",
       "    </tr>\n",
       "  </tbody>\n",
       "</table>\n",
       "</div>"
      ],
      "text/plain": [
       "                    friends  predicted_followers\n",
       "id                                              \n",
       "252564115                14                   12\n",
       "2789628483               13                   12\n",
       "977495870651424768       11                   10\n",
       "964564652574363648       42                   33\n",
       "42646399                  3                    3"
      ]
     },
     "execution_count": 15,
     "metadata": {},
     "output_type": "execute_result"
    }
   ],
   "source": [
    "\n",
    "df_predicted = df_test[['friends']] # return it as a Datafram\n",
    "df_predicted['predicted_followers'] = followers_pred\n",
    "# rescale to represent the actuall friends and follower count\n",
    "# return it as int not float \n",
    "df_predicted = df_predicted.apply(np.exp).astype(int)\n",
    "df_predicted.head(5)\n"
   ]
  },
  {
   "cell_type": "markdown",
   "metadata": {},
   "source": [
    "# Write back to CrateDB"
   ]
  },
  {
   "cell_type": "markdown",
   "metadata": {},
   "source": [
    "Assuming the df_predicted dataframe would be of interesst we are going to write it back in a new CrateDB table. "
   ]
  },
  {
   "cell_type": "code",
   "execution_count": 16,
   "metadata": {},
   "outputs": [],
   "source": [
    "#promote id from index type back as column, so it shows up in the table\n",
    "df_predicted_reset = df_predicted.reset_index() \n",
    "df_predicted_reset.to_sql('predicted_followers', 'crate://localhost', if_exists='append', index=False )"
   ]
  }
 ],
 "metadata": {
  "kernelspec": {
   "display_name": "Python 3",
   "language": "python",
   "name": "python3"
  },
  "language_info": {
   "codemirror_mode": {
    "name": "ipython",
    "version": 3
   },
   "file_extension": ".py",
   "mimetype": "text/x-python",
   "name": "python",
   "nbconvert_exporter": "python",
   "pygments_lexer": "ipython3",
   "version": "3.7.0"
  }
 },
 "nbformat": 4,
 "nbformat_minor": 2
}
